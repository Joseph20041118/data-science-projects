{
 "cells": [
  {
   "cell_type": "markdown",
   "id": "01636e93",
   "metadata": {},
   "source": [
    "# 🌱 ESG Stock Event Study — Mean-Adjusted Model (Demo)\n",
    "\n",
    "This notebook loads the **daily-updated datasets** produced by the GitHub Actions pipeline and computes an event study using a **mean-adjusted model**:\n",
    "\n",
    "- **Estimation window:** τ ∈ [-120, -20] days before the event  \n",
    "- **Event window:** τ ∈ [-5, +5] days around the event  \n",
    "- **Expected return:** mean return of the stock over the estimation window  \n",
    "- **AR:** abnormal return = actual return − expected return  \n",
    "- **AAR:** average abnormal return across events for each τ  \n",
    "- **CAR:** cumulative abnormal return across τ\n"
   ]
  },
  {
   "cell_type": "code",
   "execution_count": null,
   "id": "1b23b83f",
   "metadata": {},
   "outputs": [],
   "source": [
    "import os\n",
    "import pandas as pd\n",
    "import numpy as np\n",
    "import matplotlib.pyplot as plt\n",
    "\n",
    "# Try to locate the 'data/latest' directory whether you run this from\n",
    "# the repo root or inside the project folder.\n",
    "CANDIDATES = [\n",
    "    \"data/latest\",\n",
    "    \"data-science-projects-starter/data-science-projects/esg-stock-event-study/data/latest\"\n",
    "]\n",
    "\n",
    "DATA_LATEST = None\n",
    "for p in CANDIDATES:\n",
    "    if os.path.exists(p):\n",
    "        DATA_LATEST = p\n",
    "        break\n",
    "\n",
    "if DATA_LATEST is None:\n",
    "    raise FileNotFoundError(\"Could not find data/latest. Make sure you ran the pipeline or adjusted the path.\")\n",
    "\n",
    "prices_path   = os.path.join(DATA_LATEST, \"prices_latest.csv\")\n",
    "returns_path  = os.path.join(DATA_LATEST, \"returns_latest.csv\")\n",
    "events_path   = os.path.join(DATA_LATEST, \"esg_events_latest.csv\")\n",
    "panel_path    = os.path.join(DATA_LATEST, \"events_prices_panel.csv\")\n",
    "\n",
    "prices   = pd.read_csv(prices_path, parse_dates=[0], index_col=0)\n",
    "returns  = pd.read_csv(returns_path, parse_dates=[0], index_col=0)\n",
    "events   = pd.read_csv(events_path, parse_dates=['event_date']) if os.path.exists(events_path) else pd.DataFrame(columns=['ticker','event_date'])\n",
    "panel    = pd.read_csv(panel_path, parse_dates=['date','event_date'])\n",
    "\n",
    "prices.tail(), returns.tail(), events.head(), panel.head()"
   ]
  },
  {
   "cell_type": "markdown",
   "id": "beacedf5",
   "metadata": {},
   "source": [
    "## 1) Prepare returns aligned to each event\n",
    "We'll compute each event's **estimation window** ([-120, -20]) using the global `returns_latest.csv`,\n",
    "then calculate **AR** within the event window ([-5, +5])."
   ]
  },
  {
   "cell_type": "code",
   "execution_count": null,
   "id": "26f8dcf7",
   "metadata": {},
   "outputs": [],
   "source": [
    "from datetime import timedelta\n",
    "\n",
    "EST_WIN = (-120, -20)\n",
    "EVT_WIN = (-5, 5)\n",
    "\n",
    "def mean_adjusted_expected(ser, event_date, est_win=EST_WIN):\n",
    "    start = (event_date + timedelta(days=est_win[0]))\n",
    "    end   = (event_date + timedelta(days=est_win[1]))\n",
    "    s = ser.loc[(ser.index.date >= start.date()) & (ser.index.date <= end.date())]\n",
    "    if s.empty:\n",
    "        return np.nan\n",
    "    return s.mean()\n",
    "\n",
    "def build_event_ar_table(returns_df, events_df, evt_win=EVT_WIN):\n",
    "    rows = []\n",
    "    r = returns_df.copy()\n",
    "    r.index = pd.to_datetime(r.index)\n",
    "\n",
    "    for _, ev in events_df.iterrows():\n",
    "        tic = ev.get(\"ticker\")\n",
    "        if tic not in r.columns:\n",
    "            continue\n",
    "        event_date = pd.to_datetime(ev[\"event_date\"]).normalize()\n",
    "\n",
    "        mu = mean_adjusted_expected(r[tic], event_date, est_win=EST_WIN)\n",
    "        if np.isnan(mu):\n",
    "            continue\n",
    "\n",
    "        start = event_date + timedelta(days=evt_win[0])\n",
    "        end   = event_date + timedelta(days=evt_win[1])\n",
    "        seg = r.loc[(r.index >= start) & (r.index <= end), [tic]].copy()\n",
    "        if seg.empty:\n",
    "            continue\n",
    "\n",
    "        seg[\"date\"] = seg.index\n",
    "        seg[\"tau\"] = (seg[\"date\"].dt.normalize() - event_date).dt.days\n",
    "        seg[\"ticker\"] = tic\n",
    "        seg[\"event_date\"] = event_date\n",
    "        seg.rename(columns={tic: \"ret\"}, inplace=True)\n",
    "        seg[\"exp_ret\"] = mu\n",
    "        seg[\"ar\"] = seg[\"ret\"] - seg[\"exp_ret\"]\n",
    "        rows.append(seg[[\"date\",\"ticker\",\"event_date\",\"tau\",\"ret\",\"exp_ret\",\"ar\"]])\n",
    "\n",
    "    if not rows:\n",
    "        return pd.DataFrame(columns=[\"date\",\"ticker\",\"event_date\",\"tau\",\"ret\",\"exp_ret\",\"ar\"])\n",
    "    out = pd.concat(rows, ignore_index=True)\n",
    "    return out\n",
    "\n",
    "event_ar = build_event_ar_table(returns, events)\n",
    "event_ar.head(), event_ar[\"ticker\"].nunique(), events.shape[0]"
   ]
  },
  {
   "cell_type": "markdown",
   "id": "222a814e",
   "metadata": {},
   "source": [
    "## 2) Compute AAR and CAR"
   ]
  },
  {
   "cell_type": "code",
   "execution_count": null,
   "id": "ad9ee9d0",
   "metadata": {},
   "outputs": [],
   "source": [
    "def aggregate_aar_car(event_ar_df):\n",
    "    aar = event_ar_df.groupby(\"tau\", as_index=False)[\"ar\"].mean().sort_values(\"tau\")\n",
    "    aar.rename(columns={\"ar\":\"AAR\"}, inplace=True)\n",
    "\n",
    "    car = aar.copy()\n",
    "    car[\"CAR\"] = car[\"AAR\"].cumsum()\n",
    "    return aar, car\n",
    "\n",
    "aar, car = aggregate_aar_car(event_ar)\n",
    "aar.head(), car.head()"
   ]
  },
  {
   "cell_type": "markdown",
   "id": "eb4f92ca",
   "metadata": {},
   "source": [
    "## 3) Plot AAR and CAR"
   ]
  },
  {
   "cell_type": "code",
   "execution_count": null,
   "id": "173dd998",
   "metadata": {},
   "outputs": [],
   "source": [
    "import matplotlib.pyplot as plt\n",
    "\n",
    "plt.figure()\n",
    "plt.plot(aar[\"tau\"], aar[\"AAR\"], marker=\"o\")\n",
    "plt.axvline(0, linestyle=\"--\")\n",
    "plt.title(\"Average Abnormal Return (AAR)\")\n",
    "plt.xlabel(\"Tau (days relative to event)\")\n",
    "plt.ylabel(\"AAR\")\n",
    "plt.grid(True)\n",
    "plt.show()\n",
    "\n",
    "plt.figure()\n",
    "plt.plot(car[\"tau\"], car[\"CAR\"], marker=\"o\")\n",
    "plt.axvline(0, linestyle=\"--\")\n",
    "plt.title(\"Cumulative Abnormal Return (CAR)\")\n",
    "plt.xlabel(\"Tau (days relative to event)\")\n",
    "plt.ylabel(\"CAR\")\n",
    "plt.grid(True)\n",
    "plt.show()"
   ]
  },
  {
   "cell_type": "markdown",
   "id": "500061c3",
   "metadata": {},
   "source": [
    "## 4) Inspect one example event"
   ]
  },
  {
   "cell_type": "code",
   "execution_count": null,
   "id": "e75a4202",
   "metadata": {},
   "outputs": [],
   "source": [
    "# Inspect a sample event window table\n",
    "if not event_ar.empty:\n",
    "    eg = event_ar.sort_values([\"event_date\",\"ticker\",\"tau\"]).groupby([\"ticker\",\"event_date\"]).head(11)\n",
    "    eg.head(15)\n",
    "else:\n",
    "    print(\"No event AR table generated. You may need more events or adjust tickers/keywords.\")"
   ]
  }
 ],
 "metadata": {},
 "nbformat": 4,
 "nbformat_minor": 5
}
